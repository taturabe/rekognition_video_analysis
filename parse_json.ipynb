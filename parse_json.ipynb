{
 "cells": [
  {
   "cell_type": "code",
   "execution_count": null,
   "metadata": {},
   "outputs": [],
   "source": [
    "from IPython.core.display import display, HTML \n",
    "display(HTML(\"<style>.container { width:100% !important; }</style>\")) "
   ]
  },
  {
   "cell_type": "code",
   "execution_count": null,
   "metadata": {},
   "outputs": [],
   "source": [
    "import json\n",
    "import pprint \n",
    "import pandas as pd\n",
    "import matplotlib.pyplot as plt\n",
    "import datetime\n",
    "import os\n",
    "import boto3\n",
    "import time\n",
    "from pprint import pprint"
   ]
  },
  {
   "cell_type": "markdown",
   "metadata": {},
   "source": [
    "# boto3を使って動画をrekognitionで分析する"
   ]
  },
  {
   "cell_type": "code",
   "execution_count": null,
   "metadata": {},
   "outputs": [],
   "source": [
    "bucket = \"\"\n",
    "prefix = \"\"\n",
    "video_filename = \"\""
   ]
  },
  {
   "cell_type": "code",
   "execution_count": null,
   "metadata": {},
   "outputs": [],
   "source": [
    "rek_client = boto3.client(\"rekognition\")"
   ]
  },
  {
   "cell_type": "code",
   "execution_count": null,
   "metadata": {},
   "outputs": [],
   "source": [
    "def start_label_detection(client, bucket, prefix, name, **kwargs):\n",
    "    response = rek_client.start_label_detection(\n",
    "        Video={\n",
    "            'S3Object':{\n",
    "                'Bucket': bucket,\n",
    "                'Name': os.path.join(prefix, name)\n",
    "            }\n",
    "        },\n",
    "        **kwargs\n",
    "    )\n",
    "    return response\n",
    "\n"
   ]
  },
  {
   "cell_type": "code",
   "execution_count": null,
   "metadata": {},
   "outputs": [],
   "source": [
    "start_response = start_label_detection(rek_client, bucket, prefix, video_filename)\n",
    "print(start_response)"
   ]
  },
  {
   "cell_type": "code",
   "execution_count": null,
   "metadata": {},
   "outputs": [],
   "source": [
    "start_response['JobId']"
   ]
  },
  {
   "cell_type": "code",
   "execution_count": null,
   "metadata": {},
   "outputs": [],
   "source": [
    "def get_label_detection(client, job_id, **kwargs):\n",
    "    get_response = client.get_label_detection(\n",
    "        JobId=job_id,\n",
    "        **kwargs)\n",
    "    return get_response"
   ]
  },
  {
   "cell_type": "code",
   "execution_count": null,
   "metadata": {},
   "outputs": [],
   "source": [
    "next_token=''\n",
    "get_response_list=[]\n",
    "while True:\n",
    "    get_response = get_label_detection(rek_client, start_response['JobId'], NextToken=next_token)\n",
    "    print(\"Call API (get_response)\")\n",
    "    get_response_list.append(get_response)\n",
    "    if 'NextToken' in get_response.keys():\n",
    "        next_token = get_response['NextToken']\n",
    "        print(next_token)\n",
    "    else:\n",
    "        print(\"No next token, stop API call\")\n",
    "        break"
   ]
  },
  {
   "cell_type": "code",
   "execution_count": null,
   "metadata": {},
   "outputs": [],
   "source": [
    "len(get_response_list)"
   ]
  },
  {
   "cell_type": "code",
   "execution_count": null,
   "metadata": {},
   "outputs": [],
   "source": [
    "[g['ResponseMetadata'] for g in get_response_list]"
   ]
  },
  {
   "cell_type": "markdown",
   "metadata": {},
   "source": [
    "# Rekognitionの結果の読み込みと整形"
   ]
  },
  {
   "cell_type": "code",
   "execution_count": null,
   "metadata": {},
   "outputs": [],
   "source": [
    "get_response.keys()"
   ]
  },
  {
   "cell_type": "code",
   "execution_count": null,
   "metadata": {},
   "outputs": [],
   "source": [
    "filename = \"data/shibuya2.json\""
   ]
  },
  {
   "cell_type": "code",
   "execution_count": null,
   "metadata": {},
   "outputs": [],
   "source": [
    "def parse_video_label_detection(json_filename, start_time=None):\n",
    "    \n",
    "    body, ext = os.path.splitext(json_filename)\n",
    "    assert ext == '.json'\n",
    "    \n",
    "    # jsonファイルを開く\n",
    "    with open(json_filename) as f:\n",
    "        input_json = json.load(f)\n",
    "    #物体検出の結果のみを抽出\n",
    "    ext_obj = [f for f in input_json['Labels'] if not f['Label']['Instances'] == []]   # 物体検出の結果はInstancesに格納されている\n",
    "    \n",
    "    # 物体検出の結果だけを含むjson文字列（dict）を作成\n",
    "    obj_json = input_json.copy()    # 大元のjsonファイルをコピー\n",
    "    obj_json['Labels'] = ext_obj # 抽出した物体検出結果で置き換え\n",
    "    \n",
    "    out_json = \"{}_detected_object.json\".format(body)\n",
    "    with open(out_json, 'w') as f:\n",
    "        json.dump(obj_json, f)\n",
    "    print('Create json file to \"{}\"'.format(out_json))\n",
    "    \n",
    "    # 物体検出結果をDataFrameに整形\n",
    "    # ネストしているラベル (Label-Instances)をリスト形式でrecord_pathで指定\n",
    "    obj_df = pd.json_normalize(obj_json['Labels'], record_path=['Label', 'Instances'], \\\n",
    "                          meta=['Timestamp', ['Label', 'Name'], ])\n",
    "    obj_df = obj_df[['Timestamp', 'Label.Name', 'Confidence', 'BoundingBox.Width', 'BoundingBox.Height',\n",
    "       'BoundingBox.Left', 'BoundingBox.Top',]]\n",
    "    obj_df.columns= ['timedelta', 'name', 'confidence', 'width', 'height', 'left', 'top',]\n",
    "\n",
    "    \n",
    "    # 物体領域の中心点と面積を算出しDataFrameに追加\n",
    "    obj_df['center_x'] = obj_df['left'] + obj_df['width']/2\n",
    "    obj_df['center_y'] = obj_df['top'] - obj_df['height']/2\n",
    "    obj_df['area'] = obj_df['width'] * obj_df['height']\n",
    "    \n",
    "    # jsonのタイムスタンプをTimeDeltra形式に変換\n",
    "    timedelta = pd.to_timedelta(obj_df['timedelta'] * 10**6)\n",
    "    \n",
    "    # 開始時間を設定。starttime引数を指定しなかった場合は現在時間にする\n",
    "    if start_time == None:\n",
    "        start_time = datetime.datetime.now() #\"2021-03-19 00:00:00\"\n",
    "    obj_df['timestamp'] = pd.to_datetime(start_time) + timedelta\n",
    "    \n",
    "    # 識別子（インデックス番号）入りのオブジェクト名を作成\n",
    "    obj_df['name_with_id'] = obj_df['name'] + obj_df.index.map(lambda x: '_' + str(x))\n",
    "    \n",
    "    out_csv = \"{}_detected_object.csv\".format(body)\n",
    "    obj_df.to_csv(out_csv, index=None)\n",
    "    print('Create csv file to \"{}\"'.format(out_csv))\n",
    "    \n",
    "    return obj_df\n"
   ]
  },
  {
   "cell_type": "code",
   "execution_count": null,
   "metadata": {},
   "outputs": [],
   "source": [
    "obj_df = parse_video_label_detection(filename)"
   ]
  },
  {
   "cell_type": "code",
   "execution_count": null,
   "metadata": {},
   "outputs": [],
   "source": [
    "obj_df.tail(30)"
   ]
  },
  {
   "cell_type": "markdown",
   "metadata": {},
   "source": [
    "# TimeStreamへのデータ登録"
   ]
  },
  {
   "cell_type": "markdown",
   "metadata": {},
   "source": [
    "## データベース、テーブルの作成"
   ]
  },
  {
   "cell_type": "code",
   "execution_count": null,
   "metadata": {},
   "outputs": [],
   "source": [
    "db_name = \"sampleDB8\"\n",
    "table_name = \"sampleTable8\""
   ]
  },
  {
   "cell_type": "code",
   "execution_count": null,
   "metadata": {
    "scrolled": false
   },
   "outputs": [],
   "source": [
    "ts_write = boto3.client(\"timestream-write\")"
   ]
  },
  {
   "cell_type": "markdown",
   "metadata": {},
   "source": [
    "データベース作成"
   ]
  },
  {
   "cell_type": "code",
   "execution_count": null,
   "metadata": {},
   "outputs": [],
   "source": [
    "_response = ts_write.create_database(\n",
    "    DatabaseName=db_name,\n",
    "    Tags=[\n",
    "    ]\n",
    ")"
   ]
  },
  {
   "cell_type": "code",
   "execution_count": null,
   "metadata": {},
   "outputs": [],
   "source": [
    "_response"
   ]
  },
  {
   "cell_type": "markdown",
   "metadata": {},
   "source": [
    "テーブル作成"
   ]
  },
  {
   "cell_type": "code",
   "execution_count": null,
   "metadata": {},
   "outputs": [],
   "source": [
    "_response = ts_write.create_table(\n",
    "    DatabaseName=db_name,\n",
    "    TableName=table_name,\n",
    "    RetentionProperties={\n",
    "        'MemoryStoreRetentionPeriodInHours': 123,\n",
    "        'MagneticStoreRetentionPeriodInDays': 123\n",
    "    },\n",
    "    Tags=[\n",
    "    ]\n",
    ")\n",
    "print(_response)"
   ]
  },
  {
   "cell_type": "markdown",
   "metadata": {},
   "source": [
    "テーブルにレコードを登録"
   ]
  },
  {
   "cell_type": "code",
   "execution_count": null,
   "metadata": {
    "scrolled": true
   },
   "outputs": [],
   "source": [
    "dim_columns = ['name', 'name_with_id']\n",
    "mes_columns = ['timedelta', 'confidence', 'width',  'height', 'left', 'top', 'center_x', 'center_y', 'area']\n",
    "\n",
    "\n",
    "records = []\n",
    "write_freq = 10\n",
    "\n",
    "for index, row in obj_df.iterrows():\n",
    "    print(index)\n",
    "    \n",
    "    dimensions = []\n",
    "    for col in dim_columns:\n",
    "        dimensions.append({\n",
    "            'Name': col,\n",
    "            'Value': str(row[col])\n",
    "        })\n",
    "    #print(dimensions)\n",
    "    \n",
    "    '''\n",
    "    common_attributes = {\n",
    "        'Dimensions': dimensions,\n",
    "        'MeasureValueType': 'DOUBLE',\n",
    "        'Time': str(round(time.time() * 1000))\n",
    "        }\n",
    "    '''\n",
    "    \n",
    "    for col in mes_columns:\n",
    "        records.append({\n",
    "            'Dimensions': dimensions,\n",
    "            'MeasureName': col,\n",
    "            'MeasureValue': str(row[col]),\n",
    "            'MeasureValueType': 'DOUBLE',\n",
    "            'Time': str(round(row['timestamp'].to_pydatetime().timestamp() * 10**6)),\n",
    "            #'Time': str(round(time.time() * 10**6)),\n",
    "\n",
    "            'TimeUnit': 'MICROSECONDS',\n",
    "\n",
    "        })\n",
    "    \n",
    "    #print(records)\n",
    "        \n",
    "    if index % write_freq == 0:\n",
    "        try:\n",
    "            result = ts_write.write_records(DatabaseName=db_name, TableName=table_name,\n",
    "                                               Records=records, CommonAttributes={})\n",
    "            #print(\"WriteRecords Status: [%s]\" % result['ResponseMetadata']['HTTPStatusCode'])\n",
    "        except ts_write.exceptions.RejectedRecordsException as err:\n",
    "            print(\"RejectedRecords: \", err)\n",
    "            for rr in err.response[\"RejectedRecords\"]:\n",
    "                print(\"Rejected Index \" + str(rr[\"RecordIndex\"]) + \": \" + rr[\"Reason\"])\n",
    "            print(\"Other records were written successfully. \")\n",
    "        except Exception as err:\n",
    "            print(\"Error:\", err)\n",
    "        records = []\n",
    "        print(\"recoreds set to zero\")\n",
    "\n",
    "if index % write_freq != 0:\n",
    "    try:\n",
    "        result = ts_write.write_records(DatabaseName=db_name, TableName=table_name,\n",
    "                                           Records=records, CommonAttributes={})\n",
    "        #print(\"WriteRecords Status: [%s]\" % result['ResponseMetadata']['HTTPStatusCode'])\n",
    "    except ts_write.exceptions.RejectedRecordsException as err:\n",
    "        print(\"RejectedRecords: \", err)\n",
    "        for rr in err.response[\"RejectedRecords\"]:\n",
    "            print(\"Rejected Index \" + str(rr[\"RecordIndex\"]) + \": \" + rr[\"Reason\"])\n",
    "        print(\"Other records were written successfully. \")\n",
    "    except Exception as err:\n",
    "        print(\"Error:\", err)\n",
    "    records = []\n",
    "    print(\"recoreds set to zero\")"
   ]
  },
  {
   "cell_type": "code",
   "execution_count": null,
   "metadata": {},
   "outputs": [],
   "source": [
    "dimensions"
   ]
  },
  {
   "cell_type": "code",
   "execution_count": null,
   "metadata": {},
   "outputs": [],
   "source": [
    "CommonAttributes={\n",
    "        'Dimensions': dimensions\n",
    "        'MeasureName': 'string',\n",
    "        'MeasureValue': 'string',\n",
    "        'MeasureValueType': 'DOUBLE'|'BIGINT'|'VARCHAR'|'BOOLEAN',\n",
    "        'Time': 'string',\n",
    "        'TimeUnit': 'MILLISECONDS'|'SECONDS'|'MICROSECONDS'|'NANOSECONDS',\n",
    "        'Version': 123\n",
    "    },"
   ]
  },
  {
   "cell_type": "code",
   "execution_count": null,
   "metadata": {},
   "outputs": [],
   "source": [
    "_response = ts_write.write_records(\n",
    "    DatabaseName=db_name,\n",
    "    TableName=table_name,\n",
    "    CommonAttributes={\n",
    "        'Dimensions': [\n",
    "            {\n",
    "                'Name': 'string',\n",
    "                'Value': 'string',\n",
    "                'DimensionValueType': 'VARCHAR'\n",
    "            },\n",
    "        ],\n",
    "        'MeasureName': 'string',\n",
    "        'MeasureValue': 'string',\n",
    "        'MeasureValueType': 'DOUBLE'|'BIGINT'|'VARCHAR'|'BOOLEAN',\n",
    "        'Time': 'string',\n",
    "        'TimeUnit': 'MILLISECONDS'|'SECONDS'|'MICROSECONDS'|'NANOSECONDS',\n",
    "        'Version': 123\n",
    "    },\n",
    "    Records=[\n",
    "        {\n",
    "            'Dimensions': [\n",
    "                {\n",
    "                    'Name': 'string',\n",
    "                    'Value': 'string',\n",
    "                    'DimensionValueType': 'VARCHAR'\n",
    "                },\n",
    "            ],\n",
    "            'MeasureName': 'string',\n",
    "            'MeasureValue': 'string',\n",
    "            'MeasureValueType': 'DOUBLE'|'BIGINT'|'VARCHAR'|'BOOLEAN',\n",
    "            'Time': 'string',\n",
    "            'TimeUnit': 'MILLISECONDS'|'SECONDS'|'MICROSECONDS'|'NANOSECONDS',\n",
    "            'Version': 123\n",
    "        },\n",
    "    ]\n",
    ")"
   ]
  },
  {
   "cell_type": "code",
   "execution_count": null,
   "metadata": {},
   "outputs": [],
   "source": [
    "!pip freeze | grep pandas"
   ]
  },
  {
   "cell_type": "code",
   "execution_count": null,
   "metadata": {},
   "outputs": [],
   "source": [
    "!pip install awswrangler"
   ]
  },
  {
   "cell_type": "code",
   "execution_count": null,
   "metadata": {},
   "outputs": [],
   "source": []
  },
  {
   "cell_type": "code",
   "execution_count": null,
   "metadata": {},
   "outputs": [],
   "source": [
    "rejected_records = wr.timestream.write(\n",
    "    df=obj_df,\n",
    "    database=db_name,\n",
    "    table= table_name,\n",
    "    time_col=\"TimeStamp\",\n",
    "    #measure_col= [\"Confidence\", \"Width\", \"Height\", \"Left\", \"Top\", \"Center_X\", \"Center_Y\", \"Area\"],\n",
    "    measure_col= \"Confidence\",\n",
    "\n",
    "    dimensions_cols=[\"Name\"],\n",
    ")\n",
    "\n",
    "print(f\"Number of rejected records: {len(rejected_records)}\")\n"
   ]
  },
  {
   "cell_type": "code",
   "execution_count": null,
   "metadata": {},
   "outputs": [],
   "source": [
    "rejected_records"
   ]
  }
 ],
 "metadata": {
  "kernelspec": {
   "display_name": "Python 3",
   "language": "python",
   "name": "python3"
  },
  "language_info": {
   "codemirror_mode": {
    "name": "ipython",
    "version": 3
   },
   "file_extension": ".py",
   "mimetype": "text/x-python",
   "name": "python",
   "nbconvert_exporter": "python",
   "pygments_lexer": "ipython3",
   "version": "3.6.10"
  }
 },
 "nbformat": 4,
 "nbformat_minor": 4
}
